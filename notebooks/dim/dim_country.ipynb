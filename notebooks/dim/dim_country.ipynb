{
 "cells": [
  {
   "cell_type": "code",
   "execution_count": 2,
   "metadata": {},
   "outputs": [],
   "source": [
    "import pandas as pd"
   ]
  },
  {
   "cell_type": "code",
   "execution_count": 77,
   "metadata": {},
   "outputs": [],
   "source": [
    "path_global_eco_1 = \"../../data/global_economy/year_df_part1.pkl\"\n",
    "path_global_eco_2 = \"../../data/global_economy/year_df_part2.pkl\"\n",
    "path_steel_data = \"../../data/world_steel_association/Steel_Data_Data_Mining.xlsx\"\n",
    "path_trade_data = \"../../data/un_comtrade/trade_data.xlsx\"\n",
    "\n",
    "path_output_data = \"../../data/dim/\""
   ]
  },
  {
   "cell_type": "code",
   "execution_count": 14,
   "metadata": {},
   "outputs": [],
   "source": [
    "\n",
    "\n"
   ]
  },
  {
   "cell_type": "code",
   "execution_count": 83,
   "metadata": {},
   "outputs": [],
   "source": [
    "trade_data = pd.read_excel(path_trade_data, sheet_name=\"Sheet1\")\n",
    "trade_cols = [\"reporterISO\", \"reporterDesc\"]\n",
    "\n",
    "trade_data = trade_data[trade_cols]\n",
    "\n",
    "trade_data = trade_data.rename(columns={trade_cols[0]: \"country_code\", trade_cols[1]: \"country_name\"})\n",
    "\n",
    "df_trade = trade_data.drop_duplicates(subset=[\"country_code\", \"country_name\"])\n"
   ]
  },
  {
   "cell_type": "code",
   "execution_count": 84,
   "metadata": {},
   "outputs": [],
   "source": [
    "steel_data = pd.read_excel(path_steel_data)\n",
    "steel_data.head()\n",
    "\n",
    "\n",
    "change_cols = [\"Country Code\", \"Country\"]\n",
    "\n",
    "steel_data = steel_data[change_cols]\n",
    "\n",
    "steel_data = steel_data.rename(columns={change_cols[0]: \"country_code\", change_cols[1]: \"country_name\"})\n",
    "\n",
    "df_steel = steel_data.drop_duplicates(subset=['country_code', 'country_name'])\n"
   ]
  },
  {
   "cell_type": "code",
   "execution_count": 68,
   "metadata": {},
   "outputs": [
    {
     "data": {
      "text/html": [
       "<div>\n",
       "<style scoped>\n",
       "    .dataframe tbody tr th:only-of-type {\n",
       "        vertical-align: middle;\n",
       "    }\n",
       "\n",
       "    .dataframe tbody tr th {\n",
       "        vertical-align: top;\n",
       "    }\n",
       "\n",
       "    .dataframe thead th {\n",
       "        text-align: right;\n",
       "    }\n",
       "</style>\n",
       "<table border=\"1\" class=\"dataframe\">\n",
       "  <thead>\n",
       "    <tr style=\"text-align: right;\">\n",
       "      <th></th>\n",
       "      <th>country_code</th>\n",
       "      <th>country_name</th>\n",
       "      <th>ContinentCode</th>\n",
       "    </tr>\n",
       "  </thead>\n",
       "  <tbody>\n",
       "    <tr>\n",
       "      <th>0</th>\n",
       "      <td>AFG</td>\n",
       "      <td>Afghanistan</td>\n",
       "      <td>AS</td>\n",
       "    </tr>\n",
       "  </tbody>\n",
       "</table>\n",
       "</div>"
      ],
      "text/plain": [
       "  country_code country_name ContinentCode\n",
       "0          AFG  Afghanistan            AS"
      ]
     },
     "execution_count": 68,
     "metadata": {},
     "output_type": "execute_result"
    }
   ],
   "source": [
    "global_economy_data_1 = pd.read_pickle(\"../../data/global_economy/year_df_part1.pkl\")\n",
    "global_economy_data_2 = pd.read_pickle(\"../../data/global_economy/year_df_part2.pkl\")\n",
    "\n",
    "df_global_economy = pd.concat([global_economy_data_1, global_economy_data_2], ignore_index=True)\n",
    "\n",
    "change_cols = [\"Code\", \"Country\", \"ContinentCode\"]\n",
    "\n",
    "df_global_economy = df_global_economy[change_cols]\n",
    "\n",
    "df_global_economy = df_global_economy.rename(columns={change_cols[0]: \"country_code\", change_cols[1]: \"country_name\"})\n",
    "\n",
    "df_global_economy = df_global_economy.drop_duplicates(subset=['country_code', 'country_name'])\n",
    "\n",
    "df_global_economy.head(1)"
   ]
  },
  {
   "cell_type": "code",
   "execution_count": 80,
   "metadata": {},
   "outputs": [
    {
     "data": {
      "text/html": [
       "<div>\n",
       "<style scoped>\n",
       "    .dataframe tbody tr th:only-of-type {\n",
       "        vertical-align: middle;\n",
       "    }\n",
       "\n",
       "    .dataframe tbody tr th {\n",
       "        vertical-align: top;\n",
       "    }\n",
       "\n",
       "    .dataframe thead th {\n",
       "        text-align: right;\n",
       "    }\n",
       "</style>\n",
       "<table border=\"1\" class=\"dataframe\">\n",
       "  <thead>\n",
       "    <tr style=\"text-align: right;\">\n",
       "      <th></th>\n",
       "      <th>ContinentCode</th>\n",
       "      <th>Continent</th>\n",
       "      <th>country_code</th>\n",
       "      <th>country_name</th>\n",
       "    </tr>\n",
       "  </thead>\n",
       "  <tbody>\n",
       "    <tr>\n",
       "      <th>0</th>\n",
       "      <td>AS</td>\n",
       "      <td>Asia</td>\n",
       "      <td>AFG</td>\n",
       "      <td>Afghanistan</td>\n",
       "    </tr>\n",
       "    <tr>\n",
       "      <th>1</th>\n",
       "      <td>EU</td>\n",
       "      <td>Europe</td>\n",
       "      <td>ALB</td>\n",
       "      <td>Albania</td>\n",
       "    </tr>\n",
       "    <tr>\n",
       "      <th>2</th>\n",
       "      <td>AF</td>\n",
       "      <td>Africa</td>\n",
       "      <td>DZA</td>\n",
       "      <td>Algeria</td>\n",
       "    </tr>\n",
       "    <tr>\n",
       "      <th>3</th>\n",
       "      <td>EU</td>\n",
       "      <td>Europe</td>\n",
       "      <td>AND</td>\n",
       "      <td>Andorra</td>\n",
       "    </tr>\n",
       "    <tr>\n",
       "      <th>4</th>\n",
       "      <td>AF</td>\n",
       "      <td>Africa</td>\n",
       "      <td>AGO</td>\n",
       "      <td>Angola</td>\n",
       "    </tr>\n",
       "  </tbody>\n",
       "</table>\n",
       "</div>"
      ],
      "text/plain": [
       "  ContinentCode Continent country_code country_name\n",
       "0            AS      Asia          AFG  Afghanistan\n",
       "1            EU    Europe          ALB      Albania\n",
       "2            AF    Africa          DZA      Algeria\n",
       "3            EU    Europe          AND      Andorra\n",
       "4            AF    Africa          AGO       Angola"
      ]
     },
     "execution_count": 80,
     "metadata": {},
     "output_type": "execute_result"
    }
   ],
   "source": [
    "# Mapping Dictionary: ISO-Code → Englischer Name\n",
    "continent_name_map = {\n",
    "    'AF': 'Africa',\n",
    "    'AS': 'Asia',\n",
    "    'EU': 'Europe',\n",
    "    'NA': 'North America',\n",
    "    'SA': 'South America',\n",
    "    'OC': 'Oceania',\n",
    "    'AN': 'Antarctica'\n",
    "}\n",
    "north_america_countries = [\n",
    "    'Antigua and Barbuda', 'Aruba', 'Bahamas', 'Barbados', 'Belize', 'Bermuda',\n",
    "    'Canada', 'Costa Rica', 'Dominica', 'Dominican Republic', 'El Salvador',\n",
    "    'Grenada', 'Guatemala', 'Haiti', 'Honduras', 'Jamaica', 'Mexico',\n",
    "    'Nicaragua', 'Panama', 'Puerto Rico', 'Saint Lucia',\n",
    "    'Saint Vincent and the Grenadines', 'Trinidad and Tobago',\n",
    "    'USA', 'Cuba', 'Montserrat'\n",
    "]\n",
    "\n",
    "# Ergänze ggf. die fehlenden ContinentCodes in deinem DataFrame\n",
    "df_global_economy.loc[\n",
    "    df_global_economy['country_name'].isin(north_america_countries),\n",
    "    'ContinentCode'\n",
    "] = 'NA'\n",
    "\n",
    "# Index (ContinentCode) in neue Spalte übernehmen\n",
    "df_global_economy = df_global_economy.reset_index().drop(columns='index')\n",
    "\n",
    "# Englische Kontinentnamen hinzufügen\n",
    "df_global_economy['Continent'] = df_global_economy['ContinentCode'].map(continent_name_map)\n",
    "\n",
    "# Optional: Spaltenreihenfolge anpassen\n",
    "cols = ['ContinentCode', 'Continent'] + [col for col in df.columns if col not in ['ContinentCode', 'Continent']]\n",
    "df_global_economy = df_global_economy[cols]\n",
    "\n",
    "# Ausgabe\n",
    "df_global_economy.head()"
   ]
  },
  {
   "cell_type": "code",
   "execution_count": 81,
   "metadata": {},
   "outputs": [],
   "source": [
    "\n",
    "# df_global_economy.to_csv(path_output_data + \"global_economy.csv\", index=False)"
   ]
  },
  {
   "cell_type": "code",
   "execution_count": 82,
   "metadata": {},
   "outputs": [
    {
     "data": {
      "text/html": [
       "<div>\n",
       "<style scoped>\n",
       "    .dataframe tbody tr th:only-of-type {\n",
       "        vertical-align: middle;\n",
       "    }\n",
       "\n",
       "    .dataframe tbody tr th {\n",
       "        vertical-align: top;\n",
       "    }\n",
       "\n",
       "    .dataframe thead th {\n",
       "        text-align: right;\n",
       "    }\n",
       "</style>\n",
       "<table border=\"1\" class=\"dataframe\">\n",
       "  <thead>\n",
       "    <tr style=\"text-align: right;\">\n",
       "      <th></th>\n",
       "      <th>ContinentCode</th>\n",
       "      <th>Continent</th>\n",
       "      <th>country_code</th>\n",
       "      <th>country_name</th>\n",
       "    </tr>\n",
       "  </thead>\n",
       "  <tbody>\n",
       "    <tr>\n",
       "      <th>count</th>\n",
       "      <td>202</td>\n",
       "      <td>202</td>\n",
       "      <td>202</td>\n",
       "      <td>202</td>\n",
       "    </tr>\n",
       "    <tr>\n",
       "      <th>unique</th>\n",
       "      <td>6</td>\n",
       "      <td>6</td>\n",
       "      <td>202</td>\n",
       "      <td>202</td>\n",
       "    </tr>\n",
       "    <tr>\n",
       "      <th>top</th>\n",
       "      <td>AF</td>\n",
       "      <td>Africa</td>\n",
       "      <td>AFG</td>\n",
       "      <td>Afghanistan</td>\n",
       "    </tr>\n",
       "    <tr>\n",
       "      <th>freq</th>\n",
       "      <td>53</td>\n",
       "      <td>53</td>\n",
       "      <td>1</td>\n",
       "      <td>1</td>\n",
       "    </tr>\n",
       "  </tbody>\n",
       "</table>\n",
       "</div>"
      ],
      "text/plain": [
       "       ContinentCode Continent country_code country_name\n",
       "count            202       202          202          202\n",
       "unique             6         6          202          202\n",
       "top               AF    Africa          AFG  Afghanistan\n",
       "freq              53        53            1            1"
      ]
     },
     "execution_count": 82,
     "metadata": {},
     "output_type": "execute_result"
    }
   ],
   "source": [
    "df_global_economy.describe()"
   ]
  },
  {
   "cell_type": "code",
   "execution_count": 85,
   "metadata": {},
   "outputs": [
    {
     "data": {
      "text/html": [
       "<div>\n",
       "<style scoped>\n",
       "    .dataframe tbody tr th:only-of-type {\n",
       "        vertical-align: middle;\n",
       "    }\n",
       "\n",
       "    .dataframe tbody tr th {\n",
       "        vertical-align: top;\n",
       "    }\n",
       "\n",
       "    .dataframe thead th {\n",
       "        text-align: right;\n",
       "    }\n",
       "</style>\n",
       "<table border=\"1\" class=\"dataframe\">\n",
       "  <thead>\n",
       "    <tr style=\"text-align: right;\">\n",
       "      <th></th>\n",
       "      <th>country_code</th>\n",
       "      <th>country_name</th>\n",
       "    </tr>\n",
       "  </thead>\n",
       "  <tbody>\n",
       "    <tr>\n",
       "      <th>count</th>\n",
       "      <td>121</td>\n",
       "      <td>121</td>\n",
       "    </tr>\n",
       "    <tr>\n",
       "      <th>unique</th>\n",
       "      <td>121</td>\n",
       "      <td>121</td>\n",
       "    </tr>\n",
       "    <tr>\n",
       "      <th>top</th>\n",
       "      <td>ALB</td>\n",
       "      <td>Albania</td>\n",
       "    </tr>\n",
       "    <tr>\n",
       "      <th>freq</th>\n",
       "      <td>1</td>\n",
       "      <td>1</td>\n",
       "    </tr>\n",
       "  </tbody>\n",
       "</table>\n",
       "</div>"
      ],
      "text/plain": [
       "       country_code country_name\n",
       "count           121          121\n",
       "unique          121          121\n",
       "top             ALB      Albania\n",
       "freq              1            1"
      ]
     },
     "execution_count": 85,
     "metadata": {},
     "output_type": "execute_result"
    }
   ],
   "source": [
    "df_steel.describe()"
   ]
  },
  {
   "cell_type": "code",
   "execution_count": 87,
   "metadata": {},
   "outputs": [
    {
     "data": {
      "text/html": [
       "<div>\n",
       "<style scoped>\n",
       "    .dataframe tbody tr th:only-of-type {\n",
       "        vertical-align: middle;\n",
       "    }\n",
       "\n",
       "    .dataframe tbody tr th {\n",
       "        vertical-align: top;\n",
       "    }\n",
       "\n",
       "    .dataframe thead th {\n",
       "        text-align: right;\n",
       "    }\n",
       "</style>\n",
       "<table border=\"1\" class=\"dataframe\">\n",
       "  <thead>\n",
       "    <tr style=\"text-align: right;\">\n",
       "      <th></th>\n",
       "      <th>country_code</th>\n",
       "      <th>country_name</th>\n",
       "    </tr>\n",
       "  </thead>\n",
       "  <tbody>\n",
       "    <tr>\n",
       "      <th>count</th>\n",
       "      <td>60</td>\n",
       "      <td>60</td>\n",
       "    </tr>\n",
       "    <tr>\n",
       "      <th>unique</th>\n",
       "      <td>60</td>\n",
       "      <td>60</td>\n",
       "    </tr>\n",
       "    <tr>\n",
       "      <th>top</th>\n",
       "      <td>ARG</td>\n",
       "      <td>Argentina</td>\n",
       "    </tr>\n",
       "    <tr>\n",
       "      <th>freq</th>\n",
       "      <td>1</td>\n",
       "      <td>1</td>\n",
       "    </tr>\n",
       "  </tbody>\n",
       "</table>\n",
       "</div>"
      ],
      "text/plain": [
       "       country_code country_name\n",
       "count            60           60\n",
       "unique           60           60\n",
       "top             ARG    Argentina\n",
       "freq              1            1"
      ]
     },
     "execution_count": 87,
     "metadata": {},
     "output_type": "execute_result"
    }
   ],
   "source": [
    "df_trade.describe()"
   ]
  }
 ],
 "metadata": {
  "kernelspec": {
   "display_name": "Python 3",
   "language": "python",
   "name": "python3"
  },
  "language_info": {
   "codemirror_mode": {
    "name": "ipython",
    "version": 3
   },
   "file_extension": ".py",
   "mimetype": "text/x-python",
   "name": "python",
   "nbconvert_exporter": "python",
   "pygments_lexer": "ipython3",
   "version": "3.9.6"
  }
 },
 "nbformat": 4,
 "nbformat_minor": 2
}
